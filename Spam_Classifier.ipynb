{
 "cells": [
  {
   "cell_type": "code",
   "execution_count": 1,
   "metadata": {},
   "outputs": [],
   "source": [
    "import json\n",
    "import pandas as pd\n",
    "from flatten_json import flatten\n",
    "import matplotlib.pyplot as plt\n",
    "import seaborn as sns\n",
    "import numpy as np\n",
    "import pandas as pd\n",
    "import matplotlib.pyplot as plt\n",
    "from sklearn.feature_extraction.text import TfidfVectorizer, CountVectorizer\n",
    "from sklearn.model_selection import train_test_split\n",
    "from sklearn.metrics import confusion_matrix,accuracy_score,f1_score,auc,roc_curve\n",
    "from sklearn.naive_bayes import MultinomialNB\n",
    "from sklearn.svm import SVC\n",
    "from sklearn.ensemble import RandomForestClassifier\n",
    "from wordcloud import WordCloud\n",
    "from sklearn.model_selection import KFold,cross_val_score\n",
    "from sklearn.linear_model import LogisticRegression\n",
    "from sklearn.svm import SVC\n",
    "from xgboost import XGBClassifier\n",
    "import numpy\n",
    "%matplotlib inline"
   ]
  },
  {
   "cell_type": "markdown",
   "metadata": {},
   "source": [
    "At high level, we will follow below steps to build our spam classifier for rss newsfeeds:\n",
    "> __1. Dataset Preparation:__ The first step is the Dataset Preparation step which includes the process of loading a dataset and performing basic pre-processing. The dataset is then splitted into train and validation sets. We will read scraped news from json, extract the information we need and create label ( spam or ham )\n",
    "\n",
    "> __2. Feature Engineering:__ The next step is the Feature Engineering in which the raw dataset is transformed into flat features which can be used in a machine learning model. This step also includes the process of creating new features from the existing data. \n",
    "\n",
    "> __3. Model Training:__ The final step is the Model Building step in which a machine learning model is trained on a labelled dataset.\n",
    "\n",
    "> __4. Improve Performance of Spam Classifier:__ We will also lexplore the different ways to improve the performance of text classifiers.\n",
    "\n",
    "\n",
    "\n"
   ]
  },
  {
   "cell_type": "markdown",
   "metadata": {},
   "source": [
    "# 1 Data Preparation\n",
    "\n",
    "We have list of domains which are blacklisted. After analysing the structure of the scraped news articles in JSON format, we can use these blacklisted domains to identfy particular article as Spam or not spam ( aka 'ham')\n",
    "\n",
    "Let's create labels as :\n",
    "\n",
    "- __0__ NOT SPAM (aka 'ham' )\n",
    "- __1__ SPAM\n"
   ]
  },
  {
   "cell_type": "code",
   "execution_count": 2,
   "metadata": {},
   "outputs": [],
   "source": [
    "blacklist = [\n",
    "  \"nbpostgazette.com\",\n",
    "  \"www.ratingsalerts.com\",\n",
    "  \"theanalystfinancial.com\",\n",
    "  \"marketingcorrect.com\",\n",
    "  \"dailytelescope.com\",\n",
    "  \"nbherard.com\",\n",
    "  \"financialportal24.com\",\n",
    "  \"reportagestuff.com\",\n",
    "  \"www.insidertradings.org\",\n",
    "  \"silverpinyon.com\",\n",
    "  \"timegazette.com\",\n",
    "  \"www.satprnews.com\",\n",
    "  \"monotonecritic.com\",\n",
    "  \"marketnewsaccess.com\",\n",
    "  \"firstnewsservice.com\",\n",
    "  \"yourniskayuna24.com\",\n",
    "  \"nwctrail.com\",\n",
    "  \"ibnservice.com\",\n",
    "  \"incrediblenews24.com\",\n",
    "  \"publicsector24.com\",\n",
    "  \"firstnewshawk.com\",\n",
    "  \"journalismday.com\",\n",
    "  \"www.highlandmirror.com\",\n",
    "  \"thetricountypress.com\",\n",
    "  \"assetsstock.com\",\n",
    "  \"chiefobserver.com\",\n",
    "  \"opinioninvestor.com\",\n",
    "  \"freenewsman.com\",\n",
    "  \"talkherald.com\",\n",
    "  \"publicistreport.com\",\n",
    "  \"newmexicocourierexpress.com\",\n",
    "  \"peopletoday24.com\",\n",
    "  \"dailycommercenews.com\",\n",
    "  \"factsweek.com\",\n",
    "  \"thefuturetechnologies.com\",\n",
    "  \"newschemicals.com\",\n",
    "  \"thefinancialconsulting.com\",\n",
    "  \"islandpostgazette.com\",\n",
    "  \"therealfact24.com\",\n",
    "  \"thefuturetechnologies.com\",\n",
    "  \"perfectanalyst.com\",\n",
    "  \"positivenewspaper.com\",\n",
    "  \"www.findmarketresearch.org\",\n",
    "  \"talkdailynews.com\",\n",
    "  \"ittechnology24.com\",\n",
    "  \"heraldanalyst.com\",\n",
    "  \"tokenfolks.com\",\n",
    "  \"theanalystfinancial.com\",\n",
    "  \"truthfulreporter.com\",\n",
    "]"
   ]
  },
  {
   "cell_type": "code",
   "execution_count": 3,
   "metadata": {},
   "outputs": [],
   "source": [
    "def isspam(link):\n",
    "    # if the link field contains any of the blacklisted domain names, label this as spam\n",
    "    spam = 0\n",
    "    for x in blacklist:\n",
    "        if link.lower().find(x.lower())!= -1:\n",
    "            spam =1\n",
    "    return spam"
   ]
  },
  {
   "cell_type": "markdown",
   "metadata": {},
   "source": [
    "### Read the news articles  from JSON file into the DataFrame:"
   ]
  },
  {
   "cell_type": "code",
   "execution_count": 4,
   "metadata": {},
   "outputs": [],
   "source": [
    "def read_data_from_json():\n",
    "    articles = open('scraped_articles.json', 'r')\n",
    "    data = json.load(articles)\n",
    "    col1_l,col2_l,col3_l,col4_l,col5_l,label = [],[],[],[],[],[]\n",
    "    for col1 in data.keys():\n",
    "        for col2 in data[col1].keys():\n",
    "            for col3 in data[col1][col2].keys():\n",
    "                for col4 in data[col1][col2][col3]:\n",
    "                    for article in data[col1][col2]['articles']:\n",
    "                        col1_l.append(article['link'])\n",
    "                        col2_l.append(article['published'])\n",
    "                        col3_l.append(article['title'])\n",
    "                        col4_l.append(article['text'])\n",
    "                        col5_l.append(article['author'])\n",
    "                        label.append(isspam(article['link']))\n",
    "                    #col4_l.append(data[col1][col2][col3])\n",
    "\n",
    "    data=pd.DataFrame([col1_l,col2_l,col3_l,col4_l,col5_l,label]).T\n",
    "    data.columns =['link','published','title','text','author','label']\n",
    "    return data\n"
   ]
  },
  {
   "cell_type": "code",
   "execution_count": 5,
   "metadata": {},
   "outputs": [],
   "source": [
    "data = read_data_from_json()"
   ]
  },
  {
   "cell_type": "markdown",
   "metadata": {},
   "source": [
    "### Lets take a sneak peek at how our data looks like to humans before we transform it into vectorized features suitable for downstream algorithms"
   ]
  },
  {
   "cell_type": "code",
   "execution_count": 6,
   "metadata": {
    "scrolled": true
   },
   "outputs": [
    {
     "data": {
      "text/html": [
       "<div>\n",
       "<style scoped>\n",
       "    .dataframe tbody tr th:only-of-type {\n",
       "        vertical-align: middle;\n",
       "    }\n",
       "\n",
       "    .dataframe tbody tr th {\n",
       "        vertical-align: top;\n",
       "    }\n",
       "\n",
       "    .dataframe thead th {\n",
       "        text-align: right;\n",
       "    }\n",
       "</style>\n",
       "<table border=\"1\" class=\"dataframe\">\n",
       "  <thead>\n",
       "    <tr style=\"text-align: right;\">\n",
       "      <th></th>\n",
       "      <th>link</th>\n",
       "      <th>published</th>\n",
       "      <th>title</th>\n",
       "      <th>text</th>\n",
       "      <th>author</th>\n",
       "      <th>label</th>\n",
       "    </tr>\n",
       "  </thead>\n",
       "  <tbody>\n",
       "    <tr>\n",
       "      <th>0</th>\n",
       "      <td>https://www.nytimes.com/2018/03/24/technology/...</td>\n",
       "      <td>2018-03-24T20:43:21</td>\n",
       "      <td>How Calls for Privacy May Upend Business for F...</td>\n",
       "      <td>There are other avenues still, said Jascha Kay...</td>\n",
       "      <td>[David Streitfeld, Natasha Singer, Steven Erla...</td>\n",
       "      <td>0</td>\n",
       "    </tr>\n",
       "    <tr>\n",
       "      <th>1</th>\n",
       "      <td>https://www.nytimes.com/2018/03/24/business/we...</td>\n",
       "      <td>2018-03-24T17:16:53</td>\n",
       "      <td>The Former Khmer Rouge Slave Who Blew the Whis...</td>\n",
       "      <td>And so Mr. Tran, who is in his mid-50s and spe...</td>\n",
       "      <td>[Emily Flitter]</td>\n",
       "      <td>0</td>\n",
       "    </tr>\n",
       "    <tr>\n",
       "      <th>2</th>\n",
       "      <td>https://www.nytimes.com/2018/03/25/business/ch...</td>\n",
       "      <td>2018-03-25T15:21:56</td>\n",
       "      <td>China Splits Top Jobs at Central Bank, Adding ...</td>\n",
       "      <td>In that analogy, Mr. Guo will essentially beco...</td>\n",
       "      <td>[Keith Bradsher]</td>\n",
       "      <td>0</td>\n",
       "    </tr>\n",
       "    <tr>\n",
       "      <th>3</th>\n",
       "      <td>https://www.nytimes.com/2018/03/24/business/jo...</td>\n",
       "      <td>2018-03-25T03:00:18</td>\n",
       "      <td>A Top Candidate for New York Fed’s Leader: San...</td>\n",
       "      <td>News of Mr. Williams’s likely selection was fi...</td>\n",
       "      <td>[Ben Casselman]</td>\n",
       "      <td>0</td>\n",
       "    </tr>\n",
       "    <tr>\n",
       "      <th>4</th>\n",
       "      <td>https://www.nytimes.com/2018/03/24/business/tr...</td>\n",
       "      <td>2018-03-24T14:34:10</td>\n",
       "      <td>Trump’s Tariffs Keep Allies, Markets and Indus...</td>\n",
       "      <td>What is increasingly clear to many on Capitol ...</td>\n",
       "      <td>[Jim Tankersley]</td>\n",
       "      <td>0</td>\n",
       "    </tr>\n",
       "  </tbody>\n",
       "</table>\n",
       "</div>"
      ],
      "text/plain": [
       "                                                link            published  \\\n",
       "0  https://www.nytimes.com/2018/03/24/technology/...  2018-03-24T20:43:21   \n",
       "1  https://www.nytimes.com/2018/03/24/business/we...  2018-03-24T17:16:53   \n",
       "2  https://www.nytimes.com/2018/03/25/business/ch...  2018-03-25T15:21:56   \n",
       "3  https://www.nytimes.com/2018/03/24/business/jo...  2018-03-25T03:00:18   \n",
       "4  https://www.nytimes.com/2018/03/24/business/tr...  2018-03-24T14:34:10   \n",
       "\n",
       "                                               title  \\\n",
       "0  How Calls for Privacy May Upend Business for F...   \n",
       "1  The Former Khmer Rouge Slave Who Blew the Whis...   \n",
       "2  China Splits Top Jobs at Central Bank, Adding ...   \n",
       "3  A Top Candidate for New York Fed’s Leader: San...   \n",
       "4  Trump’s Tariffs Keep Allies, Markets and Indus...   \n",
       "\n",
       "                                                text  \\\n",
       "0  There are other avenues still, said Jascha Kay...   \n",
       "1  And so Mr. Tran, who is in his mid-50s and spe...   \n",
       "2  In that analogy, Mr. Guo will essentially beco...   \n",
       "3  News of Mr. Williams’s likely selection was fi...   \n",
       "4  What is increasingly clear to many on Capitol ...   \n",
       "\n",
       "                                              author label  \n",
       "0  [David Streitfeld, Natasha Singer, Steven Erla...     0  \n",
       "1                                    [Emily Flitter]     0  \n",
       "2                                   [Keith Bradsher]     0  \n",
       "3                                    [Ben Casselman]     0  \n",
       "4                                   [Jim Tankersley]     0  "
      ]
     },
     "execution_count": 6,
     "metadata": {},
     "output_type": "execute_result"
    }
   ],
   "source": [
    "data.head()"
   ]
  },
  {
   "cell_type": "markdown",
   "metadata": {},
   "source": [
    "### features we can use:\n",
    "It seems we can use both 'title' and 'text' from the news articles in order to train our spam classifier. We can also use Author names as one of the features. However, let's first start with the most important field ('text') and see if we can build an accurate classifier. We will come back to consider other features, if our model is not doing too well just using the 'text' column."
   ]
  },
  {
   "cell_type": "markdown",
   "metadata": {},
   "source": [
    "### Is our target variable too imbalanced?\n",
    "\n",
    "Let’s see how much is the imbalance in number of spam and ham articles. \n",
    "All the machine learning models try to minimize error on training data. If the number of spams are too low as compared to regular article, our classifier will just start predicting everything as 'Not spam' and still maintain high accuracy. We don't want that to happen. If the imbalance is too high ( minority class is less than 15% of the majority class) we will need to employ methods like oversampling/ undersamling or SMOTE to  balance our data"
   ]
  },
  {
   "cell_type": "code",
   "execution_count": 7,
   "metadata": {
    "scrolled": true
   },
   "outputs": [
    {
     "data": {
      "text/plain": [
       "<matplotlib.axes._subplots.AxesSubplot at 0x1f9ef323b70>"
      ]
     },
     "execution_count": 7,
     "metadata": {},
     "output_type": "execute_result"
    },
    {
     "data": {
      "image/png": "[encoded data removed]",
      "text/plain": [
       "<Figure size 432x288 with 1 Axes>"
      ]
     },
     "metadata": {
      "needs_background": "light"
     },
     "output_type": "display_data"
    }
   ],
   "source": [
    "data['label'].value_counts().plot(kind='bar')"
   ]
  },
  {
   "cell_type": "markdown",
   "metadata": {},
   "source": [
    "#### This looks like  imbalanced class. However, it is not too imbalanced i.e. the enemble models should still work well and oversampling/SMOTE is not necessary. We will have to revisit this in case our model doesn't perform too well"
   ]
  },
  {
   "cell_type": "code",
   "execution_count": 8,
   "metadata": {},
   "outputs": [],
   "source": [
    "# Lets create copy of our data to start transforming the same\n",
    "df = data.copy()"
   ]
  },
  {
   "cell_type": "markdown",
   "metadata": {},
   "source": [
    "## 1.2 Feature Selection"
   ]
  },
  {
   "cell_type": "code",
   "execution_count": 9,
   "metadata": {},
   "outputs": [],
   "source": [
    "#drop (currently) unused columns\n",
    "df.drop(['link','published','title','author'],axis = 1,inplace=True)"
   ]
  },
  {
   "cell_type": "code",
   "execution_count": 10,
   "metadata": {},
   "outputs": [],
   "source": [
    "df.rename({'text':'data','label':'labels'},axis=1,inplace=True)"
   ]
  },
  {
   "cell_type": "code",
   "execution_count": 11,
   "metadata": {
    "scrolled": true
   },
   "outputs": [],
   "source": [
    "# change to sklearn- friendly data type\n",
    "df.labels = df.labels.astype(int)"
   ]
  },
  {
   "cell_type": "code",
   "execution_count": 12,
   "metadata": {},
   "outputs": [],
   "source": [
    "Y = df['labels'].values"
   ]
  },
  {
   "cell_type": "markdown",
   "metadata": {},
   "source": [
    "# 2. Feature Engineering\n",
    "The next step is the Feature Engineering in which the raw dataset is transformed into flat features which can be used in a machine learning model. This step also includes the process of creating new features from the existing data.\n",
    "\n",
    "The next step is the feature engineering step. In this step, raw text data will be transformed into feature vectors and new features will be created using the existing dataset. We will implement the following different ideas in order to obtain relevant features from our dataset.\n",
    "\n",
    "We can use below feature engineering techniques for our data:\n",
    "\n",
    "### 2.1 Count Vectors as features:\n",
    "\n",
    "Count Vector is a matrix notation of the dataset in which every row represents a document from the corpus, every column represents a term from the corpus, and every cell represents the frequency count of a particular term in a particular document.\n",
    "\n",
    "### 2.2 TF-IDF Vectors as features:\n",
    "\n",
    "TF-IDF score represents the relative importance of a term in the document and the entire corpus. TF-IDF score is composed by two terms: the first computes the normalized Term Frequency (TF), the second term is the Inverse Document Frequency (IDF), computed as the logarithm of the number of the documents in the corpus divided by the number of documents where the specific term appears.\n",
    "\n",
    "TF(t) = (Number of times term t appears in a document) / (Total number of terms in the document)\n",
    "IDF(t) = log_e(Total number of documents / Number of documents with term t in it)\n",
    "\n",
    "TF-IDF Vectors can be generated at different levels of input tokens (words, characters, n-grams)\n",
    "\n",
    "\n",
    "\n",
    "> __a. Word Level TF-IDF__ : Matrix representing tf-idf scores of every term in different documents\n",
    "\n",
    "> __b. N-gram Level TF-IDF__ : N-grams are the combination of N terms together. This Matrix representing tf-idf scores of N-grams\n",
    "\n",
    "> __c. Character Level TF-IDF__ : Matrix representing tf-idf scores of character level n-grams in the corpus\n",
    "\n",
    "2.3 Word Embeddings as features\n",
    "\n",
    "2.4 Text / NLP based features\n",
    "\n",
    "2.5 Topic Models as features\n"
   ]
  },
  {
   "cell_type": "code",
   "execution_count": 13,
   "metadata": {},
   "outputs": [],
   "source": [
    "\n",
    "#count_vectorizer = CountVectorizer(decode_error='ignore')"
   ]
  },
  {
   "cell_type": "code",
   "execution_count": 14,
   "metadata": {},
   "outputs": [],
   "source": [
    "#tfidf_vectorizer = TfidfVectorizer() # This can work much better than Countvectorizer even without removing stop words"
   ]
  },
  {
   "cell_type": "code",
   "execution_count": 15,
   "metadata": {},
   "outputs": [],
   "source": [
    "X = df['data']"
   ]
  },
  {
   "cell_type": "code",
   "execution_count": 16,
   "metadata": {},
   "outputs": [],
   "source": [
    "# split up the data into training and test set\n",
    "Xtrain, Xtest, Ytrain, Ytest = train_test_split(X, Y, test_size=0.33)"
   ]
  },
  {
   "cell_type": "code",
   "execution_count": 17,
   "metadata": {},
   "outputs": [],
   "source": [
    "# create a count vectorizer object \n",
    "count_vect = CountVectorizer(analyzer='word')\n",
    "\n",
    "\n",
    "# transform the training and validation data using count vectorizer object\n",
    "xtrain_count  =  count_vect.fit_transform(Xtrain)\n",
    "xvalid_count  =  count_vect.transform(Xtest)"
   ]
  },
  {
   "cell_type": "code",
   "execution_count": 18,
   "metadata": {},
   "outputs": [],
   "source": [
    "# word level tf-idf\n",
    "tfidf_vect = TfidfVectorizer()\n",
    "tfidf_vect.fit(Xtrain)\n",
    "xtrain_tfidf =  tfidf_vect.transform(Xtrain)\n",
    "xvalid_tfidf =  tfidf_vect.transform(Xtest)"
   ]
  },
  {
   "cell_type": "code",
   "execution_count": 19,
   "metadata": {},
   "outputs": [
    {
     "data": {
      "text/plain": [
       "(46580, 22219)"
      ]
     },
     "execution_count": 19,
     "metadata": {},
     "output_type": "execute_result"
    }
   ],
   "source": [
    "xtrain_tfidf.shape"
   ]
  },
  {
   "cell_type": "code",
   "execution_count": 20,
   "metadata": {},
   "outputs": [
    {
     "data": {
      "text/plain": [
       "(22943, 22219)"
      ]
     },
     "execution_count": 20,
     "metadata": {},
     "output_type": "execute_result"
    }
   ],
   "source": [
    "xvalid_tfidf.shape"
   ]
  },
  {
   "cell_type": "code",
   "execution_count": 21,
   "metadata": {},
   "outputs": [],
   "source": [
    "# ngram level tf-idf \n",
    "tfidf_vect_ngram = TfidfVectorizer(analyzer='word', token_pattern=r'\\w{1,}', ngram_range=(2,3), max_features=8000)\n",
    "tfidf_vect_ngram.fit(Xtrain)\n",
    "xtrain_tfidf_ngram =  tfidf_vect_ngram.transform(Xtrain)\n",
    "xvalid_tfidf_ngram =  tfidf_vect_ngram.transform(Xtest)\n",
    "\n",
    "# characters level tf-idf\n",
    "tfidf_vect_ngram_chars = TfidfVectorizer(analyzer='char', token_pattern=r'\\w{1,}', ngram_range=(2,3), max_features=8000)\n",
    "tfidf_vect_ngram_chars.fit(Xtrain)\n",
    "xtrain_tfidf_ngram_chars =  tfidf_vect_ngram_chars.transform(Xtrain) \n",
    "xvalid_tfidf_ngram_chars =  tfidf_vect_ngram_chars.transform(Xtest) "
   ]
  },
  {
   "cell_type": "markdown",
   "metadata": {},
   "source": [
    "## We can also use word embeddings/LDA topic models as features\n",
    "### About Word embedding\n",
    "\n",
    "It’s a means of building a low-dimensional vector representation from corpus of text, which preserves the contextual similarity of words.\n",
    "\n",
    "Basically, it is the transformation of text into numbers. So a natural language modelling technique like Word Embedding is used to map words or phrases from a vocabulary to a corresponding vector of real numbers. As well as being amenable to processing by ML algorithms, this vector representation has two important and advantageous properties:\n",
    "\n",
    "1.\tDimensionality Reduction - it is a more efficient representation\n",
    "\n",
    "2.\tContextual Similarity - it is a more expressive representation\n",
    "\n",
    "Why word embedding?\n",
    "\n",
    "●\tIt is necessary because many machine learning algorithms (including deep nets) require their input to be vectors of continuous values; they just won’t work on strings of plain text.\n",
    "\n",
    "●\tRepresenting words as unique, discrete ids furthermore leads to data sparsity, and usually means that we may need more data in order to successfully train statistical models. Using vector representations can overcome some of these obstacles.\n",
    "\n",
    "●\tVector Space Models embedded words in a continuous vector space where semantically similar words are embedded nearby each other. \n",
    "\n",
    "Implementation models:\n",
    "\n",
    "●\t__Word2Vec:__ It is a predictive based model: Predictive models learn their vectors in order to improve their predictive ability of Loss (target word | context words; Vectors), i.e. the loss of predicting the target words from the context words given the vector representations. In word2vec, this is cast as a feed-forward neural network and optimized as such using SGD, etc\n",
    "\n",
    "●\t__Glove:__ It is a count based model: Count-based models learn their vectors by essentially doing dimensionality reduction on the co-occurrence counts matrix. This is done by minimizing a \"reconstruction loss\" which tries to find the lower-dimensional representations which can explain most of the variance in the high-dimensional data. In the specific case of GloVe, the counts matrix is pre-processed by normalizing the counts and log-smoothing them\n",
    "We must keep in mind that Word2vec is a two-layer shallow neural net and  techniques like Word2vec and GloVe can turn raw text into a numerical form that deep nets can understand.\n",
    "\n",
    "### About LDA topic modeling:\n",
    "\n",
    "As the name suggests, it is a process to automatically identify topics present in a text object and to derive hidden patterns exhibited by a text corpus. Thus, assisting better decision making.\n",
    "\n",
    "Topic Modelling is different from rule-based text mining approaches that use regular expressions or dictionary based keyword searching techniques. It is an unsupervised approach used for finding and observing the bunch of words (called “topics”) in large clusters of texts.\n",
    "\n",
    "Topics can be defined as “a repeating pattern of co-occurring terms in a corpus”. A good topic model should result in – “health”, “doctor”, “patient”, “hospital” for a topic – Healthcare, and “farm”, “crops”, “wheat” for a topic – “Farming”.\n",
    "\n",
    "Topic Models are very useful for the purpose for document clustering, organizing large blocks of textual data, information retrieval from unstructured text and feature selection. For Example – New York Times are using topic models to boost their user – article recommendation engines. Various professionals are using topic models for recruitment industries where they aim to extract latent features of job descriptions and map them to right candidates. They are being used to organize large datasets of emails, customer reviews, and user social media profiles.\n",
    "\n",
    "\n",
    "Refernce: https://www.analyticsvidhya.com/blog/2016/08/beginners-guide-to-topic-modeling-in-python/"
   ]
  },
  {
   "cell_type": "code",
   "execution_count": 22,
   "metadata": {},
   "outputs": [],
   "source": [
    "def model_accuracy(classifier, Xtrain, Ytrain, Xtest,Ytest):\n",
    "    # fit the training dataset on the classifier\n",
    "    classifier.fit(Xtrain, Ytrain)\n",
    "    \n",
    "    # predict the labels on validation dataset\n",
    "    predictions = classifier.predict(Xtest)\n",
    "    \n",
    "    print('Model accuracy:',accuracy_score(predictions, Ytest))\n",
    "    fpr, tpr, thresholds = roc_curve(Ytest, predictions, pos_label=1)\n",
    "    print('Area Under ROC curve: ', auc(fpr, tpr))\n",
    "    print('F-1 Score: ',f1_score( Ytest,predictions))\n",
    "    print('Confusion Matrix:\\n',confusion_matrix(predictions, Ytest))"
   ]
  },
  {
   "cell_type": "code",
   "execution_count": 23,
   "metadata": {},
   "outputs": [],
   "source": [
    "def model_accuracy_all_features(classifier):\n",
    "    print('**********************************************')\n",
    "    print('Using count vectors:')\n",
    "    model_accuracy(classifier,xtrain_count,Ytrain,xvalid_count,Ytest)\n",
    "    print('**********************************************')\n",
    "    print('Using tf-idf word vectors:')\n",
    "    model_accuracy(classifier, xtrain_tfidf, Ytrain, xvalid_tfidf,Ytest)\n",
    "    print('**********************************************')\n",
    "    print('Using tf-idf N gram vectors:')\n",
    "    model_accuracy(classifier, xtrain_tfidf_ngram, Ytrain, xvalid_tfidf_ngram,Ytest)\n",
    "    print('**********************************************')\n",
    "    print('Using tf-idf N gram Character vectors:')\n",
    "    model_accuracy(classifier, xtrain_tfidf_ngram_chars, Ytrain, xvalid_tfidf_ngram_chars,Ytest)\n",
    "    "
   ]
  },
  {
   "cell_type": "code",
   "execution_count": null,
   "metadata": {},
   "outputs": [],
   "source": []
  },
  {
   "cell_type": "code",
   "execution_count": 24,
   "metadata": {},
   "outputs": [],
   "source": [
    "#cv = sklearn.model_selection.KFold(n_splits=10)"
   ]
  },
  {
   "cell_type": "code",
   "execution_count": null,
   "metadata": {},
   "outputs": [],
   "source": []
  },
  {
   "cell_type": "code",
   "execution_count": 25,
   "metadata": {},
   "outputs": [],
   "source": [
    "#Xtrain_tfidf  =tfidf_vectorizer.fit_transform(Xtrain)"
   ]
  },
  {
   "cell_type": "code",
   "execution_count": 26,
   "metadata": {},
   "outputs": [],
   "source": [
    "#Xtrain_tfidf.shape"
   ]
  },
  {
   "cell_type": "code",
   "execution_count": 27,
   "metadata": {},
   "outputs": [],
   "source": [
    "#Xtest_tfidf = tfidf_vectorizer.transform(Xtest)"
   ]
  },
  {
   "cell_type": "code",
   "execution_count": 28,
   "metadata": {},
   "outputs": [],
   "source": [
    "\n",
    "nb = MultinomialNB()\n",
    "rf = RandomForestClassifier(n_estimators=500,n_jobs=-1)\n",
    "lr = LogisticRegression(solver='liblinear',n_jobs=-1)\n",
    "svc = SVC()\n",
    "xgb = XGBClassifier(n_estimators=500,n_jobs=-1)"
   ]
  },
  {
   "cell_type": "code",
   "execution_count": null,
   "metadata": {},
   "outputs": [],
   "source": []
  },
  {
   "cell_type": "code",
   "execution_count": 29,
   "metadata": {},
   "outputs": [
    {
     "name": "stdout",
     "output_type": "stream",
     "text": [
      "**********************************************\n",
      "Using count vectors:\n",
      "Model accuracy: 0.9984744802336225\n",
      "Area Under ROC curve:  0.9966583922092801\n",
      "F-1 Score:  0.9966471884280104\n",
      "Confusion Matrix:\n",
      " [[17706    35]\n",
      " [    0  5202]]\n",
      "**********************************************\n",
      "Using tf-idf word vectors:\n",
      "Model accuracy: 1.0\n",
      "Area Under ROC curve:  1.0\n",
      "F-1 Score:  1.0\n",
      "Confusion Matrix:\n",
      " [[17706     0]\n",
      " [    0  5237]]\n",
      "**********************************************\n",
      "Using tf-idf N gram vectors:\n",
      "Model accuracy: 0.9954670269799067\n",
      "Area Under ROC curve:  0.9900706511361467\n",
      "F-1 Score:  0.9899710703953712\n",
      "Confusion Matrix:\n",
      " [[17706   104]\n",
      " [    0  5133]]\n",
      "**********************************************\n",
      "Using tf-idf N gram Character vectors:\n",
      "Model accuracy: 0.9954670269799067\n",
      "Area Under ROC curve:  0.9900706511361467\n",
      "F-1 Score:  0.9899710703953712\n",
      "Confusion Matrix:\n",
      " [[17706   104]\n",
      " [    0  5133]]\n"
     ]
    }
   ],
   "source": [
    "# create the model, train it, print scores\n",
    "model_accuracy_all_features(nb)"
   ]
  },
  {
   "cell_type": "code",
   "execution_count": 30,
   "metadata": {},
   "outputs": [
    {
     "name": "stdout",
     "output_type": "stream",
     "text": [
      "**********************************************\n",
      "Using count vectors:\n",
      "Model accuracy: 1.0\n",
      "Area Under ROC curve:  1.0\n",
      "F-1 Score:  1.0\n",
      "Confusion Matrix:\n",
      " [[17706     0]\n",
      " [    0  5237]]\n",
      "**********************************************\n",
      "Using tf-idf word vectors:\n",
      "Model accuracy: 1.0\n",
      "Area Under ROC curve:  1.0\n",
      "F-1 Score:  1.0\n",
      "Confusion Matrix:\n",
      " [[17706     0]\n",
      " [    0  5237]]\n",
      "**********************************************\n",
      "Using tf-idf N gram vectors:\n",
      "Model accuracy: 1.0\n",
      "Area Under ROC curve:  1.0\n",
      "F-1 Score:  1.0\n",
      "Confusion Matrix:\n",
      " [[17706     0]\n",
      " [    0  5237]]\n",
      "**********************************************\n",
      "Using tf-idf N gram Character vectors:\n",
      "Model accuracy: 1.0\n",
      "Area Under ROC curve:  1.0\n",
      "F-1 Score:  1.0\n",
      "Confusion Matrix:\n",
      " [[17706     0]\n",
      " [    0  5237]]\n"
     ]
    }
   ],
   "source": [
    "model_accuracy_all_features(rf)"
   ]
  },
  {
   "cell_type": "code",
   "execution_count": 31,
   "metadata": {
    "scrolled": true
   },
   "outputs": [
    {
     "name": "stdout",
     "output_type": "stream",
     "text": [
      "**********************************************\n",
      "Using count vectors:\n"
     ]
    },
    {
     "name": "stderr",
     "output_type": "stream",
     "text": [
      "C:\\ProgramData\\Anaconda3\\lib\\site-packages\\sklearn\\linear_model\\logistic.py:1297: UserWarning: 'n_jobs' > 1 does not have any effect when 'solver' is set to 'liblinear'. Got 'n_jobs' = 8.\n",
      "  \" = {}.\".format(effective_n_jobs(self.n_jobs)))\n"
     ]
    },
    {
     "name": "stdout",
     "output_type": "stream",
     "text": [
      "Model accuracy: 1.0\n",
      "Area Under ROC curve:  1.0\n",
      "F-1 Score:  1.0\n",
      "Confusion Matrix:\n",
      " [[17706     0]\n",
      " [    0  5237]]\n",
      "**********************************************\n",
      "Using tf-idf word vectors:\n"
     ]
    },
    {
     "name": "stderr",
     "output_type": "stream",
     "text": [
      "C:\\ProgramData\\Anaconda3\\lib\\site-packages\\sklearn\\linear_model\\logistic.py:1297: UserWarning: 'n_jobs' > 1 does not have any effect when 'solver' is set to 'liblinear'. Got 'n_jobs' = 8.\n",
      "  \" = {}.\".format(effective_n_jobs(self.n_jobs)))\n"
     ]
    },
    {
     "name": "stdout",
     "output_type": "stream",
     "text": [
      "Model accuracy: 1.0\n",
      "Area Under ROC curve:  1.0\n",
      "F-1 Score:  1.0\n",
      "Confusion Matrix:\n",
      " [[17706     0]\n",
      " [    0  5237]]\n",
      "**********************************************\n",
      "Using tf-idf N gram vectors:\n"
     ]
    },
    {
     "name": "stderr",
     "output_type": "stream",
     "text": [
      "C:\\ProgramData\\Anaconda3\\lib\\site-packages\\sklearn\\linear_model\\logistic.py:1297: UserWarning: 'n_jobs' > 1 does not have any effect when 'solver' is set to 'liblinear'. Got 'n_jobs' = 8.\n",
      "  \" = {}.\".format(effective_n_jobs(self.n_jobs)))\n"
     ]
    },
    {
     "name": "stdout",
     "output_type": "stream",
     "text": [
      "Model accuracy: 1.0\n",
      "Area Under ROC curve:  1.0\n",
      "F-1 Score:  1.0\n",
      "Confusion Matrix:\n",
      " [[17706     0]\n",
      " [    0  5237]]\n",
      "**********************************************\n",
      "Using tf-idf N gram Character vectors:\n"
     ]
    },
    {
     "name": "stderr",
     "output_type": "stream",
     "text": [
      "C:\\ProgramData\\Anaconda3\\lib\\site-packages\\sklearn\\linear_model\\logistic.py:1297: UserWarning: 'n_jobs' > 1 does not have any effect when 'solver' is set to 'liblinear'. Got 'n_jobs' = 8.\n",
      "  \" = {}.\".format(effective_n_jobs(self.n_jobs)))\n"
     ]
    },
    {
     "name": "stdout",
     "output_type": "stream",
     "text": [
      "Model accuracy: 1.0\n",
      "Area Under ROC curve:  1.0\n",
      "F-1 Score:  1.0\n",
      "Confusion Matrix:\n",
      " [[17706     0]\n",
      " [    0  5237]]\n"
     ]
    }
   ],
   "source": [
    "model_accuracy_all_features(lr)"
   ]
  },
  {
   "cell_type": "code",
   "execution_count": 32,
   "metadata": {
    "scrolled": false
   },
   "outputs": [],
   "source": [
    "#model_accuracy_all_features(svc)"
   ]
  },
  {
   "cell_type": "code",
   "execution_count": 33,
   "metadata": {
    "scrolled": false
   },
   "outputs": [
    {
     "name": "stdout",
     "output_type": "stream",
     "text": [
      "**********************************************\n",
      "Using count vectors:\n",
      "Model accuracy: 1.0\n",
      "Area Under ROC curve:  1.0\n",
      "F-1 Score:  1.0\n",
      "Confusion Matrix:\n",
      " [[17706     0]\n",
      " [    0  5237]]\n",
      "**********************************************\n",
      "Using tf-idf word vectors:\n",
      "Model accuracy: 1.0\n",
      "Area Under ROC curve:  1.0\n",
      "F-1 Score:  1.0\n",
      "Confusion Matrix:\n",
      " [[17706     0]\n",
      " [    0  5237]]\n",
      "**********************************************\n",
      "Using tf-idf N gram vectors:\n",
      "Model accuracy: 1.0\n",
      "Area Under ROC curve:  1.0\n",
      "F-1 Score:  1.0\n",
      "Confusion Matrix:\n",
      " [[17706     0]\n",
      " [    0  5237]]\n",
      "**********************************************\n",
      "Using tf-idf N gram Character vectors:\n",
      "Model accuracy: 1.0\n",
      "Area Under ROC curve:  1.0\n",
      "F-1 Score:  1.0\n",
      "Confusion Matrix:\n",
      " [[17706     0]\n",
      " [    0  5237]]\n"
     ]
    }
   ],
   "source": [
    "model_accuracy_all_features(xgb)"
   ]
  },
  {
   "cell_type": "code",
   "execution_count": 34,
   "metadata": {},
   "outputs": [
    {
     "name": "stdout",
     "output_type": "stream",
     "text": [
      "nb: 1.000000 (0.000000)\n",
      "rf: 1.000000 (0.000000)\n"
     ]
    },
    {
     "name": "stderr",
     "output_type": "stream",
     "text": [
      "C:\\ProgramData\\Anaconda3\\lib\\site-packages\\sklearn\\linear_model\\logistic.py:1297: UserWarning: 'n_jobs' > 1 does not have any effect when 'solver' is set to 'liblinear'. Got 'n_jobs' = 8.\n",
      "  \" = {}.\".format(effective_n_jobs(self.n_jobs)))\n",
      "C:\\ProgramData\\Anaconda3\\lib\\site-packages\\sklearn\\linear_model\\logistic.py:1297: UserWarning: 'n_jobs' > 1 does not have any effect when 'solver' is set to 'liblinear'. Got 'n_jobs' = 8.\n",
      "  \" = {}.\".format(effective_n_jobs(self.n_jobs)))\n",
      "C:\\ProgramData\\Anaconda3\\lib\\site-packages\\sklearn\\linear_model\\logistic.py:1297: UserWarning: 'n_jobs' > 1 does not have any effect when 'solver' is set to 'liblinear'. Got 'n_jobs' = 8.\n",
      "  \" = {}.\".format(effective_n_jobs(self.n_jobs)))\n",
      "C:\\ProgramData\\Anaconda3\\lib\\site-packages\\sklearn\\linear_model\\logistic.py:1297: UserWarning: 'n_jobs' > 1 does not have any effect when 'solver' is set to 'liblinear'. Got 'n_jobs' = 8.\n",
      "  \" = {}.\".format(effective_n_jobs(self.n_jobs)))\n",
      "C:\\ProgramData\\Anaconda3\\lib\\site-packages\\sklearn\\linear_model\\logistic.py:1297: UserWarning: 'n_jobs' > 1 does not have any effect when 'solver' is set to 'liblinear'. Got 'n_jobs' = 8.\n",
      "  \" = {}.\".format(effective_n_jobs(self.n_jobs)))\n",
      "C:\\ProgramData\\Anaconda3\\lib\\site-packages\\sklearn\\linear_model\\logistic.py:1297: UserWarning: 'n_jobs' > 1 does not have any effect when 'solver' is set to 'liblinear'. Got 'n_jobs' = 8.\n",
      "  \" = {}.\".format(effective_n_jobs(self.n_jobs)))\n",
      "C:\\ProgramData\\Anaconda3\\lib\\site-packages\\sklearn\\linear_model\\logistic.py:1297: UserWarning: 'n_jobs' > 1 does not have any effect when 'solver' is set to 'liblinear'. Got 'n_jobs' = 8.\n",
      "  \" = {}.\".format(effective_n_jobs(self.n_jobs)))\n",
      "C:\\ProgramData\\Anaconda3\\lib\\site-packages\\sklearn\\linear_model\\logistic.py:1297: UserWarning: 'n_jobs' > 1 does not have any effect when 'solver' is set to 'liblinear'. Got 'n_jobs' = 8.\n",
      "  \" = {}.\".format(effective_n_jobs(self.n_jobs)))\n",
      "C:\\ProgramData\\Anaconda3\\lib\\site-packages\\sklearn\\linear_model\\logistic.py:1297: UserWarning: 'n_jobs' > 1 does not have any effect when 'solver' is set to 'liblinear'. Got 'n_jobs' = 8.\n",
      "  \" = {}.\".format(effective_n_jobs(self.n_jobs)))\n",
      "C:\\ProgramData\\Anaconda3\\lib\\site-packages\\sklearn\\linear_model\\logistic.py:1297: UserWarning: 'n_jobs' > 1 does not have any effect when 'solver' is set to 'liblinear'. Got 'n_jobs' = 8.\n",
      "  \" = {}.\".format(effective_n_jobs(self.n_jobs)))\n"
     ]
    },
    {
     "name": "stdout",
     "output_type": "stream",
     "text": [
      "lr: 1.000000 (0.000000)\n",
      "xgb: 1.000000 (0.000000)\n"
     ]
    },
    {
     "data": {
      "image/png": "[encoded data removed]",
      "text/plain": [
       "<Figure size 432x288 with 1 Axes>"
      ]
     },
     "metadata": {
      "needs_background": "light"
     },
     "output_type": "display_data"
    }
   ],
   "source": [
    "models = []\n",
    "models.append(('nb', MultinomialNB()))\n",
    "models.append(('rf', RandomForestClassifier(n_estimators=500,n_jobs=-1)))\n",
    "models.append(('lr', LogisticRegression(solver='liblinear',n_jobs=-1)))\n",
    "models.append(('xgb', XGBClassifier(n_estimators=500,n_jobs=-1)))\n",
    "results = []\n",
    "names = []\n",
    "scoring = 'accuracy'\n",
    "for name, model in models:\n",
    "    kfold = KFold(n_splits=10, random_state=42)\n",
    "    cv_results = cross_val_score(model, xtrain_tfidf, Ytrain, cv=kfold, scoring=scoring)\n",
    "    results.append(cv_results)\n",
    "    names.append(name)\n",
    "    msg = \"%s: %f (%f)\" % (name, cv_results.mean(), cv_results.std())\n",
    "    print(msg)\n",
    "# boxplot algorithm comparison\n",
    "fig = plt.figure()\n",
    "fig.suptitle('Algorithm Comparison')\n",
    "ax = fig.add_subplot(111)\n",
    "plt.boxplot(results)\n",
    "ax.set_xticklabels(names)\n",
    "plt.show()"
   ]
  },
  {
   "cell_type": "code",
   "execution_count": 35,
   "metadata": {
    "scrolled": true
   },
   "outputs": [
    {
     "name": "stdout",
     "output_type": "stream",
     "text": [
      "nb: 0.995341 (0.000768)\n",
      "rf: 1.000000 (0.000000)\n"
     ]
    },
    {
     "name": "stderr",
     "output_type": "stream",
     "text": [
      "C:\\ProgramData\\Anaconda3\\lib\\site-packages\\sklearn\\linear_model\\logistic.py:1297: UserWarning: 'n_jobs' > 1 does not have any effect when 'solver' is set to 'liblinear'. Got 'n_jobs' = 8.\n",
      "  \" = {}.\".format(effective_n_jobs(self.n_jobs)))\n",
      "C:\\ProgramData\\Anaconda3\\lib\\site-packages\\sklearn\\linear_model\\logistic.py:1297: UserWarning: 'n_jobs' > 1 does not have any effect when 'solver' is set to 'liblinear'. Got 'n_jobs' = 8.\n",
      "  \" = {}.\".format(effective_n_jobs(self.n_jobs)))\n",
      "C:\\ProgramData\\Anaconda3\\lib\\site-packages\\sklearn\\linear_model\\logistic.py:1297: UserWarning: 'n_jobs' > 1 does not have any effect when 'solver' is set to 'liblinear'. Got 'n_jobs' = 8.\n",
      "  \" = {}.\".format(effective_n_jobs(self.n_jobs)))\n",
      "C:\\ProgramData\\Anaconda3\\lib\\site-packages\\sklearn\\linear_model\\logistic.py:1297: UserWarning: 'n_jobs' > 1 does not have any effect when 'solver' is set to 'liblinear'. Got 'n_jobs' = 8.\n",
      "  \" = {}.\".format(effective_n_jobs(self.n_jobs)))\n",
      "C:\\ProgramData\\Anaconda3\\lib\\site-packages\\sklearn\\linear_model\\logistic.py:1297: UserWarning: 'n_jobs' > 1 does not have any effect when 'solver' is set to 'liblinear'. Got 'n_jobs' = 8.\n",
      "  \" = {}.\".format(effective_n_jobs(self.n_jobs)))\n",
      "C:\\ProgramData\\Anaconda3\\lib\\site-packages\\sklearn\\linear_model\\logistic.py:1297: UserWarning: 'n_jobs' > 1 does not have any effect when 'solver' is set to 'liblinear'. Got 'n_jobs' = 8.\n",
      "  \" = {}.\".format(effective_n_jobs(self.n_jobs)))\n",
      "C:\\ProgramData\\Anaconda3\\lib\\site-packages\\sklearn\\linear_model\\logistic.py:1297: UserWarning: 'n_jobs' > 1 does not have any effect when 'solver' is set to 'liblinear'. Got 'n_jobs' = 8.\n",
      "  \" = {}.\".format(effective_n_jobs(self.n_jobs)))\n",
      "C:\\ProgramData\\Anaconda3\\lib\\site-packages\\sklearn\\linear_model\\logistic.py:1297: UserWarning: 'n_jobs' > 1 does not have any effect when 'solver' is set to 'liblinear'. Got 'n_jobs' = 8.\n",
      "  \" = {}.\".format(effective_n_jobs(self.n_jobs)))\n",
      "C:\\ProgramData\\Anaconda3\\lib\\site-packages\\sklearn\\linear_model\\logistic.py:1297: UserWarning: 'n_jobs' > 1 does not have any effect when 'solver' is set to 'liblinear'. Got 'n_jobs' = 8.\n",
      "  \" = {}.\".format(effective_n_jobs(self.n_jobs)))\n",
      "C:\\ProgramData\\Anaconda3\\lib\\site-packages\\sklearn\\linear_model\\logistic.py:1297: UserWarning: 'n_jobs' > 1 does not have any effect when 'solver' is set to 'liblinear'. Got 'n_jobs' = 8.\n",
      "  \" = {}.\".format(effective_n_jobs(self.n_jobs)))\n"
     ]
    },
    {
     "name": "stdout",
     "output_type": "stream",
     "text": [
      "lr: 1.000000 (0.000000)\n",
      "xgb: 1.000000 (0.000000)\n"
     ]
    },
    {
     "data": {
      "image/png": "[encoded data removed]",
      "text/plain": [
       "<Figure size 432x288 with 1 Axes>"
      ]
     },
     "metadata": {
      "needs_background": "light"
     },
     "output_type": "display_data"
    }
   ],
   "source": [
    "models = []\n",
    "models.append(('nb', MultinomialNB()))\n",
    "models.append(('rf', RandomForestClassifier(n_estimators=500,n_jobs=-1)))\n",
    "models.append(('lr', LogisticRegression(solver='liblinear',n_jobs=-1)))\n",
    "models.append(('xgb', XGBClassifier(n_estimators=500,n_jobs=-1)))\n",
    "results = []\n",
    "names = []\n",
    "scoring = 'accuracy'\n",
    "for name, model in models:\n",
    "    kfold = KFold(n_splits=10, random_state=42)\n",
    "    cv_results = cross_val_score(model, xtrain_tfidf_ngram, Ytrain, cv=kfold, scoring=scoring)\n",
    "    results.append(cv_results)\n",
    "    names.append(name)\n",
    "    msg = \"%s: %f (%f)\" % (name, cv_results.mean(), cv_results.std())\n",
    "    print(msg)\n",
    "# boxplot algorithm comparison\n",
    "fig = plt.figure()\n",
    "fig.suptitle('Algorithm Comparison')\n",
    "ax = fig.add_subplot(111)\n",
    "plt.boxplot(results)\n",
    "ax.set_xticklabels(names)\n",
    "plt.show()"
   ]
  },
  {
   "cell_type": "markdown",
   "metadata": {},
   "source": [
    "# Feature Importance\n",
    "\n",
    "> In our case  feature importance means words which give us most information to determine given news is spam or not\n",
    "\n",
    "> We can use Random Forest to determine such words. Let's train the model on all available data to capture everything\n"
   ]
  },
  {
   "cell_type": "code",
   "execution_count": 36,
   "metadata": {},
   "outputs": [],
   "source": [
    "tfidf_all = TfidfVectorizer(stop_words='english')"
   ]
  },
  {
   "cell_type": "code",
   "execution_count": 37,
   "metadata": {},
   "outputs": [],
   "source": [
    "X_tfidf = tfidf_all.fit_transform(X)"
   ]
  },
  {
   "cell_type": "code",
   "execution_count": 38,
   "metadata": {},
   "outputs": [],
   "source": [
    "rf_all = RandomForestClassifier(n_estimators=500)"
   ]
  },
  {
   "cell_type": "code",
   "execution_count": 39,
   "metadata": {},
   "outputs": [
    {
     "data": {
      "text/plain": [
       "RandomForestClassifier(bootstrap=True, class_weight=None, criterion='gini',\n",
       "            max_depth=None, max_features='auto', max_leaf_nodes=None,\n",
       "            min_impurity_decrease=0.0, min_impurity_split=None,\n",
       "            min_samples_leaf=1, min_samples_split=2,\n",
       "            min_weight_fraction_leaf=0.0, n_estimators=500, n_jobs=None,\n",
       "            oob_score=False, random_state=None, verbose=0,\n",
       "            warm_start=False)"
      ]
     },
     "execution_count": 39,
     "metadata": {},
     "output_type": "execute_result"
    }
   ],
   "source": [
    "rf_all.fit(X_tfidf,Y)"
   ]
  },
  {
   "cell_type": "code",
   "execution_count": 40,
   "metadata": {},
   "outputs": [],
   "source": [
    "feature_names = np.array(tfidf_all.get_feature_names())"
   ]
  },
  {
   "cell_type": "code",
   "execution_count": 41,
   "metadata": {},
   "outputs": [],
   "source": [
    "sorted_coef_index = rf_all.feature_importances_.argsort()"
   ]
  },
  {
   "cell_type": "code",
   "execution_count": 42,
   "metadata": {
    "scrolled": true
   },
   "outputs": [
    {
     "data": {
      "text/plain": [
       "array(['chapter', 'reports', 'appendix', 'provides', 'contains', 'gross',\n",
       "       'gathered', 'percent', 'types', 'expected', 'future', 'gives',\n",
       "       'southeast', 'presents', 'databases', 'adoption', 'focuses',\n",
       "       'swot', 'profit', 'long', 'volume', 'downstream', 'evaluates',\n",
       "       'analysts', 'sub', 'segment', 'secondary', 'japan', '2018',\n",
       "       'methodology', 'marketing', 'till', 'status', 'details',\n",
       "       'complete', 'interviews', 'year', 'fiormarkets', 'people', 'time',\n",
       "       'statistics', 'terms', 'display', 'price', 'research',\n",
       "       'segmentation', 'vendors', 'geographical', 'upstream', 'cost',\n",
       "       'restraints', 'globally', 'equipment', 'proposals', 'contact',\n",
       "       'sales', 'raw', 'aspects', 'capacity', 'channels', 'value', 'end',\n",
       "       'qualitative', 'includes', 'conclusion', 'development', 'rate',\n",
       "       'owing', 'evaluation', 'scope', 'said', 'developments',\n",
       "       'countries', 'challenges', 'competitive', 'comprehensive', 'cagr',\n",
       "       'samples', 'segmented', 'india', 'like', 'wise', '2022', 'html',\n",
       "       'opportunities', 'introduction', 'america', 'covers', 'major',\n",
       "       'structure', 'production', 'inquiry', 'manufacturers', 'period',\n",
       "       'distributors', 'size', 'consumption', 'various', 'download',\n",
       "       'quantitative', 'drivers', 'middle', 'dynamics', 'detailed',\n",
       "       'industry', 'regional', 'basis', 'europe', 'type', 'manufacturing',\n",
       "       'persistencemarketresearch', '2025', 'strategies', 'supply',\n",
       "       'latin', 'share', 'chain', 'overview', 'depth', 'source', 'east',\n",
       "       'toc', 'africa', 'trends', 'factors', 'pacific', 'product',\n",
       "       'applications', 'north', 'segments', 'satprnews', 'global',\n",
       "       'demand', 'key', 'forecast', 'asia', 'revenue', 'analysis',\n",
       "       'request', 'application', 'growth', 'report', 'regions', 'market',\n",
       "       'region', 'www', 'sample', 'com', 'https', 'players'], dtype='<U25')"
      ]
     },
     "execution_count": 42,
     "metadata": {},
     "output_type": "execute_result"
    }
   ],
   "source": [
    "feature_names[sorted_coef_index[-150:]]\n",
    "\n",
    "#Below is the list of top 150 importance words"
   ]
  },
  {
   "cell_type": "markdown",
   "metadata": {},
   "source": [
    "# Model Deployment as REST API\n",
    "\n",
    "### Let's deploy our Random Forest Classfier above as an API"
   ]
  },
  {
   "cell_type": "code",
   "execution_count": 43,
   "metadata": {},
   "outputs": [],
   "source": [
    "# Let's use one spam news article and one non- spam news article to test our deployed API\n",
    "teststr_spam =str(df[df['labels']==1]['data'].iloc[0])\n",
    "teststr_ham =str(df[df['labels']==0]['data'].iloc[0])"
   ]
  },
  {
   "cell_type": "code",
   "execution_count": 44,
   "metadata": {
    "scrolled": true
   },
   "outputs": [
    {
     "data": {
      "text/plain": [
       "'Questale released a detailed assessment of trends in Fuel Dispensers market. The research report includes diverse topics like total market size, key market drivers, challenges, growth opportunities, key players etc. We have also covered key market updates, the impact of regulations and technological updates in ,, . New startups entering the space of Fuel Dispensers need to carefully pick their niches and genres so that they can compete on an equal footing with global companies who have an end to end development studios, production capabilities and global skills and experience backing them.\\n\\nThe research will provide a forecast for Fuel Dispensers market till 2022. The report is vital for anyone involved in the Fuel Dispensers industry. The study gives a very comprehensive outlook of the entire ,, markets.\\n\\nYou can get free access to samples from the report here: https://questale.com/report/fuel-dispensers-market-report-by-company-regions-types-and-applications-global-status-and-forecast-to-2025/303479\\n\\nA well-thought community management and growth marketing plan for Fuel Dispensers , working with right publishers to craft a go-to-market strategy for competitive genres, and tactful use of digital marketing is the need of the hour for companies aiming to capture the mindshare of their audience post-launch.\\n\\nThat’s not all; you will even get to look at customized market segments according to geographical regions, country or even different combinations of manufacturers or players in the market. Talk to us to get a customized report segmented according to the data that you need.\\n\\nFuel Dispensers will grow by 20-45% per year\\n\\nWhile it is usually 20-45% per cent or more in developed economies, this Fuel Dispensers category will continue to rise at a significantly higher rate than overall ,, Fuel Dispensers growth in the coming years, the report added.\\n\\nYou will get details about the production of Fuel Dispensers materials in a million USD, along with their consumption and revenue figures. Also get details about the growth rate of composite materials in the ,, and the market share of different segments thereof.\\n\\nThe report covers some major players in the industry including , , .\\n\\nRead Detailed Index of full Research Study at : https://questale.com/report/fuel-dispensers-market-report-by-company-regions-types-and-applications-global-status-and-forecast-to-2025/303479\\n\\nThe report contains company profiling along with Fuel Dispensers market share, sales figures, product specifications and pictures of the products offered by top companies. It also includes the contact information of all local, regional and international vendors for the composite materials market in the ,,.\\n\\nWith growing competition in the market, both local and regional competitors have come head to head with each other. They are engaging in M&A activities and technological innovation to gain an edge over their competition for finding the largest share of end-users.\\n\\nNew vendors in the market are facing tough competition from established international vendors as they struggle with technological innovations, reliability and quality issues. The report will answer questions about the current market developments and the scope of competition, opportunity cost and more.\\n\\nKey questions answered in Fuel Dispensers market research report:\\n\\nThe report answers several questions about the composite materials market. These questions include:\\n\\nWhat will be the market size of composite materials market in 2022?\\n\\nWhat will be the composite materials growth rate in 2022?\\n\\nWhich key factors drive the composite materials market in the EMEA?\\n\\nWho are the key market players for composite materials in the EMEA?\\n\\nWhich strategies are used by top players in the composite materials market?\\n\\nWhat are the key market trends in composite materials in the EMEA>\\n\\nWhich trends and challenges will influence the growth or composite materials market?\\n\\nWhich barriers do the composite materials markets face?\\n\\nWhat are the market opportunities for vendors in the EMEA and what are the threats faced by them?\\n\\nWhat are the most important outcomes of the five forces analysis of the composite materials market in the EMEA?\\n\\nThe report also contains new project investment feasibility analysis for users.\\n\\nThank you for reading the report. You can find the more detailed report here or request us for customization by contacting us.\\n\\nFeel free to get in touch for discounts and customized details @ https://questale.com/report/fuel-dispensers-market-report-by-company-regions-types-and-applications-global-status-and-forecast-to-2025/303479'"
      ]
     },
     "execution_count": 44,
     "metadata": {},
     "output_type": "execute_result"
    }
   ],
   "source": [
    "teststr_spam"
   ]
  },
  {
   "cell_type": "code",
   "execution_count": 45,
   "metadata": {
    "scrolled": false
   },
   "outputs": [
    {
     "data": {
      "text/plain": [
       "\"There are other avenues still, said Jascha Kaykas-Wolff, the chief marketing officer of Mozilla, the nonprofit organization behind the popular Firefox browser, including advertisers and large tech platforms collecting vastly less user data and still effectively customizing ads to consumers.\\n\\n“They are just collecting all the data to try to find magic growth algorithms,” Mr. Kaykas-Wolff said of online marketers. This past week, Mozilla halted its ads on Facebook, saying the social network’s default privacy settings allowed access to too much data.\\n\\nThe greatest likelihood is that the internet companies, frightened by the tumult, will accept a few more rules and work a little harder for transparency. And there will be hearings on Capitol Hill.\\n\\nThe next chapter is also set to play out not in Washington but in Europe, where regulators have already cracked down on privacy violations and are examining the role of data in online advertising.\\n\\nPhoto\\n\\nThe Cambridge Analytica case, said Vera Jourova, the European Union commissioner for justice, consumers and gender equality, was not just a breach of private data. “This is much more serious, because here we witness the threat to democracy, to democratic plurality,” she said.\\n\\nAlthough many people had a general understanding that free online services used their personal details to customize the ads they saw, the latest controversy starkly exposed the machinery.\\n\\nAdvertisement Continue reading the main story\\n\\nConsumers’ seemingly benign activities — their likes — could be used to covertly categorize and influence their behavior. And not just by unknown third parties. Facebook itself has worked directly with presidential campaigns on ad targeting, describing its services in a company case study as “influencing voters.”\\n\\n“People are upset that their data may have been used to secretly influence 2016 voters,” said Alessandro Acquisti, a professor of information technology and public policy at Carnegie Mellon University. “If your personal information can help sway elections, which affects everyone’s life and societal well-being, maybe privacy does matter after all.”\\n\\nIn interviews, Mr. Zuckerberg and Sheryl Sandberg, Facebook’s chief operating officer, seemed to accept the possibility of increased privacy regulation, something that would have been unlikely only a few months ago. But some trade group executives also warned that any attempt to curb the use of consumer data would put the business model of the ad-supported internet at risk.\\n\\nPhoto\\n\\n“You’re undermining a fundamental concept in advertising: reaching consumers who are interested in a particular product,” said Dean C. Garfield, chief executive of the Information Technology Industry Council, a trade group in Washington whose members include Amazon, Facebook, Google and Twitter.\\n\\nIf suspicion of Facebook and Google is a relatively new feeling in the United States, it has been embedded in Europe for historical and cultural reasons that date back to the Nazi Gestapo, the Soviet occupation of Eastern Europe and the Cold War.\\n\\n“We’re at an inflection point, when the great wave of optimism about tech is giving way to growing alarm,” said Heather Grabbe, director of the Open Society European Policy Institute. “This is the moment when Europeans turn to the state for protection and answers, and are less likely than Americans to rely on the market to sort out imbalances.”\\n\\nIn May, the European Union is instituting a comprehensive new privacy law, called the General Data Protection Regulation. The new rules treat personal data as proprietary, owned by an individual, and any use of that data must be accompanied by permission — opting in rather than opting out — after receiving a request written in clear language, not legalese.\\n\\nMélanie Voin, a spokeswoman for the European Commission, said the protection rules will have more teeth than the current 1995 directive. For example, a company experiencing a data breach involving individuals must notify the data protection authority within 72 hours and would be subject to fines of up to 20 million euros or 4 percent of its annual revenue.\\n\\nPhoto\\n\\nIn a January speech in Brussels, Facebook’s Ms. Sandberg said, “We know we can’t just meet the G.D.P.R., but we need to do even more.” Google declined to comment.\\n\\nAdvertisement Continue reading the main story\\n\\nThe United States does not have a consumer privacy law like the General Data Protection Regulation. But after years of pushing for similar legislation, privacy groups said that recent events were giving them new momentum — and they were looking to Europe for inspiration.\\n\\n“With the new European law, regulators for the first time have real enforcement tools,” said Jeffrey Chester, the executive director of the Center for Digital Democracy, a nonprofit group in Washington. “We now have a way to hold these companies accountable.”\\n\\nBut any ambitions for new rules may run into the realities of the tech industry.\\n\\nPrivacy advocates and even some United States regulators have long been concerned about the ability of online services to track consumers and make inferences about their financial status, health concerns and other intimate details to show them behavior-based ads. They warned that such microtargeting could unfairly categorize or exclude certain people.\\n\\nIn 2010, for instance, the Federal Trade Commission proposed a new option for consumers, called Do Not Track. Two years later, the Barack Obama administration introduced a blueprint for a Consumer Privacy Bill of Rights, intended to give Americans more control over what personal details companies collected from them and how the data was used.\\n\\nNewsletter Sign Up Continue reading the main story Interested in All Things Tech? The Bits newsletter will keep you updated on the latest from Silicon Valley and the technology industry. Please verify you're not a robot by clicking the box. Invalid email address. Please re-enter. You must select a newsletter to subscribe to. Sign Up You agree to receive occasional updates and special offers for The New York Times's products and services. Thank you for subscribing. An error has occurred. Please try again later. View all New York Times newsletters.\\n\\nBut the Do Not Track effort and the privacy bill were both stymied.\\n\\nIndustry groups successfully argued that collecting personal details posed no harm to consumers and that efforts to hinder data collection would chill innovation. Instead, the advertising industry created a program to allow consumers to opt out of having their data used for customized ads, although it does not allow people to entirely opt out of having their data collected.\\n\\n“If it can be shown that the current situation is actually a market failure and not an individual-company failure, then there’s a case to be made for federal regulation” under certain circumstances, said Randall Rothenberg, chief executive of the Interactive Advertising Bureau, a trade group.\\n\\nThe business practices of Facebook and Google were reinforced by the fact that no privacy flap lasted longer than a news cycle or two. Nor did people flee for other services. That convinced the companies that digital privacy was a dead issue.\\n\\nAdvertisement Continue reading the main story\\n\\nIf the current furor dies down without meaningful change, critics worry that the problems might become even more entrenched. When the tech industry follows its natural impulses, it becomes even less transparent.\\n\\nThat would hamper any long-term understanding of the relationship between social media and political views, an urgent question in Germany, Myanmar, Sri Lanka, the United States and many other places.\\n\\n“To know the real interaction between populism and Facebook, you need to give much more access to researchers, not less,” said Paul-Jasper Dittrich, a German research fellow in digital economy at the Jacques Delors Institute.\\n\\nThere’s another reason Silicon Valley tends to be reluctant to share information about what it is doing. It believes so deeply in itself that it does not even think there is a need for discussion. The technology world’s remedy for any problem is always more technology.\\n\\n“If Facebook and Google were merely interested in maximizing profits, we could regulate them,” said Maciej Ceglowski, who runs Tech Solidarity, a labor advocacy group. “But well-intentioned people can break things not easy to fix. It’s like a child running a bulldozer. They don’t have any sense of the damage they can do.”\""
      ]
     },
     "execution_count": 45,
     "metadata": {},
     "output_type": "execute_result"
    }
   ],
   "source": [
    "teststr_ham"
   ]
  },
  {
   "cell_type": "code",
   "execution_count": 46,
   "metadata": {},
   "outputs": [],
   "source": [
    "# Lets use one news with few sentences from a Spam news\n",
    "test_spam_proba = \"\"\"report contains company profiling along with Fuel Dispensers market share, sales figures, product specifications and pictures of the products offered by top companies. It also includes the contact information of all local, regional and international vendors for the composite materials market in the ,,.\\n\\nWith growing competition in the market, both local and regional competitors have come head to head with each other. They are engaging in M&A activities and technological innovation to gain an edge over their competition for finding the largest share of end-users.\\n\\nNew vendors in the market are facing tough competition from established international vendors as they struggle with technological innovations, reliability and quality issues. The report will answer questions about the current market developments and the scope of competition, opportunity cost and more.\\n\\nKey questions answered in Fuel Dispensers market research report:\\n\\nThe report answers several questions about the composite materials market. These questions include:\\n\\nWhat will be the market size of composite materials market in 2022?\\n\\nWhat will be the composite materials growth rate in 2022?\\n\\nWhich key factors drive the composite materials market in the EMEA?\\n\\nWho are the key market players for composite materials in the EMEA?\\n\\nWhich strategies are used by top players in the composite materials market?\\n\\nWhat are the key market trends in composite materials in the EMEA>\\n\\nWhich trends and challenges will influence the growth or composite materials market?\\n\\nWhich barriers do the composite materials markets face?\\n\\nWhat are the market opportunities for vendors in the EMEA and what are the threats faced by them?\\n\\nWhat are the most important outcomes of the five forces analysis of the composite materials market in the EMEA?\\n\\nThe report also contains new project investment feasibility analysis for users.\\n\\nThank you for reading the report. You can find the more detailed report here or request us for customization by contacting us.\\n\\nFeel free to get in touch for discounts and customized details\"\"\""
   ]
  },
  {
   "cell_type": "code",
   "execution_count": 47,
   "metadata": {},
   "outputs": [
    {
     "data": {
      "text/plain": [
       "['model.pkl']"
      ]
     },
     "execution_count": 47,
     "metadata": {},
     "output_type": "execute_result"
    }
   ],
   "source": [
    "from sklearn.externals import joblib\n",
    "joblib.dump(rf_all, 'model.pkl')"
   ]
  },
  {
   "cell_type": "code",
   "execution_count": 48,
   "metadata": {},
   "outputs": [
    {
     "data": {
      "text/plain": [
       "['tfidf.pkl']"
      ]
     },
     "execution_count": 48,
     "metadata": {},
     "output_type": "execute_result"
    }
   ],
   "source": [
    "joblib.dump(tfidf_all, 'tfidf.pkl')"
   ]
  },
  {
   "cell_type": "markdown",
   "metadata": {},
   "source": [
    "## We  have trsnfered our .pkl objects to my AWS server which explose our model as REST API using flask using below code"
   ]
  },
  {
   "cell_type": "code",
   "execution_count": 49,
   "metadata": {},
   "outputs": [],
   "source": [
    "# from flask import Flask, jsonify,request\n",
    "# from sklearn.externals import joblib\n",
    "# import pandas as pd\n",
    "# import numpy as np\n",
    "\n",
    "# app = Flask(__name__)\n",
    "# clf = joblib.load('model.pkl')\n",
    "# tfidf = joblib.load('tfidf.pkl')\n",
    "\n",
    "# @app.route('/predict', methods=['POST'])\n",
    "# def predict():\n",
    "#     data = request.get_json(force=True)\n",
    "#     features =tfidf.transform(np.array([data['news']]))\n",
    "#     prediction =clf.predict(features)\n",
    "#     spam_probability = clf.predict_proba(features)[0][1]\n",
    "#     output = str(prediction[0])\n",
    "#     return jsonify(IsSpam = output,spam_probability =spam_probability)\n",
    "# if __name__ == '__main__':\n",
    "#      app.run(host= '0.0.0.0',port=8899)"
   ]
  },
  {
   "cell_type": "markdown",
   "metadata": {},
   "source": [
    "# Deployed REST API : http://varunpatwardhan.com:8899/predict"
   ]
  },
  {
   "cell_type": "markdown",
   "metadata": {},
   "source": [
    "# Testing our API with a Spam news"
   ]
  },
  {
   "cell_type": "code",
   "execution_count": 50,
   "metadata": {
    "scrolled": true
   },
   "outputs": [
    {
     "data": {
      "text/plain": [
       "{'IsSpam': '1', 'spam_probability': 1.0}"
      ]
     },
     "execution_count": 50,
     "metadata": {},
     "output_type": "execute_result"
    }
   ],
   "source": [
    "import requests\n",
    "\n",
    "url = \"http://varunpatwardhan.com:8899/predict\"\n",
    "data = json.dumps({'news':teststr_spam})\n",
    "r = requests.post(url,data)\n",
    "\n",
    "r.json()"
   ]
  },
  {
   "cell_type": "markdown",
   "metadata": {},
   "source": [
    "# Testing our API with a non-spam news"
   ]
  },
  {
   "cell_type": "code",
   "execution_count": 51,
   "metadata": {
    "scrolled": true
   },
   "outputs": [
    {
     "data": {
      "text/plain": [
       "{'IsSpam': '0', 'spam_probability': 0.0}"
      ]
     },
     "execution_count": 51,
     "metadata": {},
     "output_type": "execute_result"
    }
   ],
   "source": [
    "\n",
    "data = json.dumps({'news':teststr_ham})\n",
    "r = requests.post(url,data)\n",
    "\n",
    "r.json()"
   ]
  },
  {
   "cell_type": "markdown",
   "metadata": {},
   "source": [
    "# Testing our model and API with partial text from Spam"
   ]
  },
  {
   "cell_type": "code",
   "execution_count": 52,
   "metadata": {},
   "outputs": [
    {
     "data": {
      "text/plain": [
       "{'IsSpam': '0', 'spam_probability': 0.444}"
      ]
     },
     "execution_count": 52,
     "metadata": {},
     "output_type": "execute_result"
    }
   ],
   "source": [
    "data = json.dumps({'news':test_spam_proba})\n",
    "r = requests.post(url,data)\n",
    "\n",
    "r.json()"
   ]
  },
  {
   "cell_type": "code",
   "execution_count": 53,
   "metadata": {},
   "outputs": [],
   "source": [
    "# print(\"train score:\", model.score(Xtrain_tfidf, Ytrain))\n",
    "\n",
    "# print(\"test score:\", model.score(Xtest_tfidf, Ytest))\n"
   ]
  },
  {
   "cell_type": "code",
   "execution_count": 54,
   "metadata": {},
   "outputs": [],
   "source": [
    "# Ypred = model.predict(Xtest_tfidf)\n",
    "\n",
    "# confusion_matrix(Ypred,Ytest)\n",
    "\n",
    "# rf = RandomForestClassifier(n_estimators=500)\n",
    "\n",
    "# rf.fit(Xtrain_tfidf,Ytrain)\n",
    "\n",
    "# Ypred = rf.predict(Xtest_tfidf)\n",
    "\n",
    "# confusion_matrix(Ypred,Ytest)"
   ]
  },
  {
   "cell_type": "code",
   "execution_count": 57,
   "metadata": {},
   "outputs": [],
   "source": [
    "# visualize the data\n",
    "def visualize(label):\n",
    "  words = ''\n",
    "  for news in df[df['labels'] == label]['data']:\n",
    "    news = news.lower()\n",
    "    words += news + ' '\n",
    "  wordcloud = WordCloud(width=3600, height=2400).generate(words)\n",
    "  plt.figure( figsize=(20,10) )\n",
    "  plt.imshow(wordcloud)\n",
    "  plt.axis('off')\n",
    "  plt.show()\n",
    "  plt.savefig('spam_words.jpg')"
   ]
  },
  {
   "cell_type": "code",
   "execution_count": 59,
   "metadata": {},
   "outputs": [],
   "source": [
    "# # things that should be spam\n",
    "# sneaky_spam = df[(df['predictions'] == 0) & (df['labels'] == 1)]['data']\n",
    "# for msg in sneaky_spam:\n",
    "#   print(msg)"
   ]
  },
  {
   "cell_type": "code",
   "execution_count": 60,
   "metadata": {},
   "outputs": [],
   "source": [
    "# # things that should not be spam\n",
    "# not_actually_spam = df[(df['predictions'] == 1) & (df['labels'] == 0)]['data']\n",
    "# for msg in not_actually_spam:\n",
    "#   print(msg)"
   ]
  },
  {
   "cell_type": "code",
   "execution_count": null,
   "metadata": {},
   "outputs": [],
   "source": []
  },
  {
   "cell_type": "code",
   "execution_count": 61,
   "metadata": {},
   "outputs": [
    {
     "data": {
      "image/png": "[encoded data removed]",
      "text/plain": [
       "<Figure size 1440x720 with 1 Axes>"
      ]
     },
     "metadata": {
      "needs_background": "light"
     },
     "output_type": "display_data"
    },
    {
     "data": {
      "text/plain": [
       "<Figure size 432x288 with 0 Axes>"
      ]
     },
     "metadata": {},
     "output_type": "display_data"
    }
   ],
   "source": [
    "visualize(1) #Spam"
   ]
  },
  {
   "cell_type": "code",
   "execution_count": null,
   "metadata": {},
   "outputs": [],
   "source": [
    "#visualize(0) #ham"
   ]
  },
  {
   "cell_type": "code",
   "execution_count": null,
   "metadata": {},
   "outputs": [],
   "source": []
  }
 ],
 "metadata": {
  "kernelspec": {
   "display_name": "Python 3",
   "language": "python",
   "name": "python3"
  },
  "language_info": {
   "codemirror_mode": {
    "name": "ipython",
    "version": 3
   },
   "file_extension": ".py",
   "mimetype": "text/x-python",
   "name": "python",
   "nbconvert_exporter": "python",
   "pygments_lexer": "ipython3",
   "version": "3.6.6"
  }
 },
 "nbformat": 4,
 "nbformat_minor": 2
}
